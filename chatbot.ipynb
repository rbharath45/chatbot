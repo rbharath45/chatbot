{
 "cells": [
  {
   "cell_type": "code",
   "execution_count": null,
   "id": "43427d8e",
   "metadata": {},
   "outputs": [
    {
     "name": "stdout",
     "output_type": "stream",
     "text": [
      "bot: Hi! I'm a calculator. How can I help you?\n",
      "user: 8-9+5*9\n",
      "bot: result is -1\n",
      "user: 7/9\n",
      "bot: result is 0.7777777777777778\n",
      "user: 6*9-1+5-4\n",
      "bot: result is 54\n"
     ]
    }
   ],
   "source": [
    "import re\n",
    "from chatterbot import ChatBot\n",
    "import flask_SQLAlchemy\n",
    "from chatterbot.trainers import ChatterBotCorpusTrainer\n",
    "\n",
    "\n",
    "def calculate(expression):\n",
    "    try:\n",
    "        result = eval(expression)\n",
    "        return str(result)\n",
    "    except:\n",
    "        return \"bot: Sorry, I cannot calculate that.\"\n",
    "\n",
    "print(\"bot: Hi! I'm a calculator. How can I help you?\")\n",
    "\n",
    "chatbot=ChatBot('corona bot')\n",
    "trainer = ChatterBotCorpusTrainer(chatbot)\n",
    "trainer.train(\"chatterbot.corpus.english.greetings\",\n",
    "\t\t\t\"chatterbot.corpus.english.conversations\" )\n",
    "response = chatbot.get_response('What is your Number')\n",
    "print(response)\n",
    "response = chatbot.get_response('Who are you?')\n",
    "print(response)\n",
    "\n",
    "while True:\n",
    "    user_input = input(\"user: \")\n",
    "    user_input = user_input.lower()\n",
    "\n",
    "    if user_input in (\"bye\", \"goodbye\", \"exit\", \"quit\"):\n",
    "        print(\"bot: Goodbye!\")\n",
    "        break\n",
    "\n",
    "    pattern = r'(\\d+)(\\s*)([\\+\\-\\*/])(\\s*)(\\d+)'\n",
    "    match = re.match(pattern, user_input)\n",
    "\n",
    "    if match:\n",
    "        operator = match.group(3)\n",
    "        operand1 = match.group(1) \n",
    "        operand2 = match.group(5)\n",
    "        expression = operand1 + operator + operand2\n",
    "        result = calculate(expression)\n",
    "        print(\"bot: result is \" + result)\n",
    "    else:\n",
    "        print(\"bot: Sorry, I didn't understand that.\")"
   ]
  },
  {
   "cell_type": "code",
   "execution_count": 12,
   "id": "6aa6c708",
   "metadata": {},
   "outputs": [
    {
     "name": "stdout",
     "output_type": "stream",
     "text": [
      "Collecting Flask-SQLAlchemy\n",
      "  Downloading Flask_SQLAlchemy-3.0.3-py3-none-any.whl (24 kB)\n",
      "Requirement already satisfied: SQLAlchemy>=1.4.18 in c:\\users\\rbhar\\anaconda3\\lib\\site-packages (from Flask-SQLAlchemy) (1.4.46)\n",
      "Collecting Flask>=2.2\n",
      "  Downloading Flask-2.2.3-py3-none-any.whl (101 kB)\n",
      "Requirement already satisfied: importlib-metadata>=3.6.0 in c:\\users\\rbhar\\anaconda3\\lib\\site-packages (from Flask>=2.2->Flask-SQLAlchemy) (4.8.1)\n",
      "Requirement already satisfied: itsdangerous>=2.0 in c:\\users\\rbhar\\anaconda3\\lib\\site-packages (from Flask>=2.2->Flask-SQLAlchemy) (2.0.1)\n",
      "Requirement already satisfied: click>=8.0 in c:\\users\\rbhar\\anaconda3\\lib\\site-packages (from Flask>=2.2->Flask-SQLAlchemy) (8.0.3)\n",
      "Collecting Werkzeug>=2.2.2\n",
      "  Downloading Werkzeug-2.2.3-py3-none-any.whl (233 kB)\n",
      "Collecting Jinja2>=3.0\n",
      "  Using cached Jinja2-3.1.2-py3-none-any.whl (133 kB)\n",
      "Requirement already satisfied: colorama in c:\\users\\rbhar\\anaconda3\\lib\\site-packages (from click>=8.0->Flask>=2.2->Flask-SQLAlchemy) (0.4.4)\n",
      "Requirement already satisfied: zipp>=0.5 in c:\\users\\rbhar\\anaconda3\\lib\\site-packages (from importlib-metadata>=3.6.0->Flask>=2.2->Flask-SQLAlchemy) (3.6.0)\n",
      "Collecting MarkupSafe>=2.0\n",
      "  Downloading MarkupSafe-2.1.2-cp39-cp39-win_amd64.whl (16 kB)\n",
      "Requirement already satisfied: greenlet!=0.4.17 in c:\\users\\rbhar\\anaconda3\\lib\\site-packages (from SQLAlchemy>=1.4.18->Flask-SQLAlchemy) (1.1.1)\n",
      "Installing collected packages: MarkupSafe, Werkzeug, Jinja2, Flask, Flask-SQLAlchemy\n",
      "  Attempting uninstall: MarkupSafe\n",
      "    Found existing installation: MarkupSafe 1.1.1\n",
      "    Uninstalling MarkupSafe-1.1.1:\n",
      "      Successfully uninstalled MarkupSafe-1.1.1\n",
      "  Attempting uninstall: Werkzeug\n",
      "    Found existing installation: Werkzeug 2.0.2\n",
      "    Uninstalling Werkzeug-2.0.2:\n",
      "      Successfully uninstalled Werkzeug-2.0.2\n",
      "  Attempting uninstall: Jinja2\n",
      "    Found existing installation: Jinja2 2.11.3Note: you may need to restart the kernel to use updated packages.\n",
      "    Uninstalling Jinja2-2.11.3:\n",
      "      Successfully uninstalled Jinja2-2.11.3\n"
     ]
    },
    {
     "name": "stderr",
     "output_type": "stream",
     "text": [
      "ERROR: pip's dependency resolver does not currently take into account all the packages that are installed. This behaviour is the source of the following dependency conflicts.\n",
      "tensorboard 2.8.0 requires markdown>=2.6.8, which is not installed.\n",
      "conda-build 3.21.9 requires tqdm, which is not installed.\n",
      "distributed 2021.10.0 requires dask==2021.10.0, but you have dask 2022.10.2 which is incompatible.\n",
      "cookiecutter 1.7.2 requires Jinja2<3.0.0, but you have jinja2 3.1.2 which is incompatible.\n",
      "cookiecutter 1.7.2 requires MarkupSafe<2.0.0, but you have markupsafe 2.1.2 which is incompatible.\n"
     ]
    },
    {
     "name": "stdout",
     "output_type": "stream",
     "text": [
      "\n",
      "  Attempting uninstall: Flask\n",
      "    Found existing installation: Flask 1.1.2\n",
      "    Uninstalling Flask-1.1.2:\n",
      "      Successfully uninstalled Flask-1.1.2\n",
      "Successfully installed Flask-2.2.3 Flask-SQLAlchemy-3.0.3 Jinja2-3.1.2 MarkupSafe-2.1.2 Werkzeug-2.2.3\n"
     ]
    }
   ],
   "source": [
    "pip install Flask-SQLAlchemy"
   ]
  },
  {
   "cell_type": "code",
   "execution_count": null,
   "id": "da9db797",
   "metadata": {},
   "outputs": [],
   "source": []
  }
 ],
 "metadata": {
  "kernelspec": {
   "display_name": "Python 3 (ipykernel)",
   "language": "python",
   "name": "python3"
  },
  "language_info": {
   "codemirror_mode": {
    "name": "ipython",
    "version": 3
   },
   "file_extension": ".py",
   "mimetype": "text/x-python",
   "name": "python",
   "nbconvert_exporter": "python",
   "pygments_lexer": "ipython3",
   "version": "3.9.7"
  }
 },
 "nbformat": 4,
 "nbformat_minor": 5
}
